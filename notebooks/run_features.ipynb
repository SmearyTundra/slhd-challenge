{
 "cells": [
  {
   "cell_type": "code",
   "execution_count": 1,
   "metadata": {},
   "outputs": [],
   "source": [
    "import sys\n",
    "from features import Features\n",
    "import inspect\n",
    "import pandas as pd\n",
    "import numpy as np"
   ]
  },
  {
   "cell_type": "code",
   "execution_count": 2,
   "metadata": {},
   "outputs": [],
   "source": [
    "def calc_features(df):\n",
    "    f = Features()\n",
    "    attrs = (getattr(f, name) for name in dir(f))\n",
    "    methods = filter(inspect.ismethod, attrs)\n",
    "    names = []\n",
    "    values = []\n",
    "    df = pd.DataFrame()\n",
    "    for signals in df:\n",
    "        for columns in df.columns[:-1]:\n",
    "            signal = np.array(signals[columns])\n",
    "            for method in methods:\n",
    "                names.append(method.__name__ + '_' + columns)\n",
    "                values.append(getattr(f, method.__name__)(signal))\n",
    "                df_new = pd.DataFrame(values, index=names).T\n",
    "                pd.concat(df, df_new)\n",
    "                \n",
    "    return pd.DataFrame(values, index=names).T"
   ]
  },
  {
   "cell_type": "code",
   "execution_count": 3,
   "metadata": {},
   "outputs": [
    {
     "name": "stdout",
     "output_type": "stream",
     "text": [
      "[ 0  1  2  3  4  5  6  7  8  9 10 11 12 13 14 15 16 17 18 19 20 21 22 23\n",
      " 24 25 26 27 28 29 30 31 32 33 34 35 36 37 38 39 40 41 42 43 44 45 46 47\n",
      " 48 49 50 51 52 53 54 55 56 57 58 59 60 61 62 63 64 65 66 67 68 69 70 71\n",
      " 72 73 74 75 76 77 78 79 80 81 82 83 84 85 86 87 88 89 90 91 92 93 94 95\n",
      " 96 97 98 99]\n"
     ]
    },
    {
     "data": {
      "text/html": [
       "<div>\n",
       "<style scoped>\n",
       "    .dataframe tbody tr th:only-of-type {\n",
       "        vertical-align: middle;\n",
       "    }\n",
       "\n",
       "    .dataframe tbody tr th {\n",
       "        vertical-align: top;\n",
       "    }\n",
       "\n",
       "    .dataframe thead th {\n",
       "        text-align: right;\n",
       "    }\n",
       "</style>\n",
       "<table border=\"1\" class=\"dataframe\">\n",
       "  <thead>\n",
       "    <tr style=\"text-align: right;\">\n",
       "      <th></th>\n",
       "      <th>auc</th>\n",
       "      <th>autocorr</th>\n",
       "      <th>calc_max</th>\n",
       "      <th>calc_mean</th>\n",
       "      <th>calc_median</th>\n",
       "      <th>calc_min</th>\n",
       "      <th>calc_std</th>\n",
       "      <th>calc_var</th>\n",
       "      <th>distance</th>\n",
       "      <th>ecdf_percentile</th>\n",
       "      <th>...</th>\n",
       "      <th>median_abs_deviation</th>\n",
       "      <th>median_abs_diff</th>\n",
       "      <th>median_diff</th>\n",
       "      <th>negative_turning</th>\n",
       "      <th>pk_pk_distance</th>\n",
       "      <th>positive_turning</th>\n",
       "      <th>slope</th>\n",
       "      <th>sum_abs_diff</th>\n",
       "      <th>total_energy</th>\n",
       "      <th>zero_cross</th>\n",
       "    </tr>\n",
       "  </thead>\n",
       "  <tbody>\n",
       "    <tr>\n",
       "      <th>0</th>\n",
       "      <td>24.5025</td>\n",
       "      <td>328350.0</td>\n",
       "      <td>99</td>\n",
       "      <td>49.5</td>\n",
       "      <td>49.5</td>\n",
       "      <td>0</td>\n",
       "      <td>28.86607</td>\n",
       "      <td>833.25</td>\n",
       "      <td>140.007143</td>\n",
       "      <td>(19, 79)</td>\n",
       "      <td>...</td>\n",
       "      <td>25.0</td>\n",
       "      <td>1.0</td>\n",
       "      <td>1.0</td>\n",
       "      <td>0</td>\n",
       "      <td>99</td>\n",
       "      <td>0</td>\n",
       "      <td>1.0</td>\n",
       "      <td>99</td>\n",
       "      <td>663333.333333</td>\n",
       "      <td>1</td>\n",
       "    </tr>\n",
       "  </tbody>\n",
       "</table>\n",
       "<p>1 rows × 26 columns</p>\n",
       "</div>"
      ],
      "text/plain": [
       "       auc  autocorr calc_max calc_mean calc_median calc_min  calc_std   \n",
       "0  24.5025  328350.0       99      49.5        49.5        0  28.86607  \\\n",
       "\n",
       "  calc_var    distance ecdf_percentile  ... median_abs_deviation   \n",
       "0   833.25  140.007143        (19, 79)  ...                 25.0  \\\n",
       "\n",
       "  median_abs_diff median_diff negative_turning pk_pk_distance   \n",
       "0             1.0         1.0                0             99  \\\n",
       "\n",
       "  positive_turning slope sum_abs_diff   total_energy zero_cross  \n",
       "0                0   1.0           99  663333.333333          1  \n",
       "\n",
       "[1 rows x 26 columns]"
      ]
     },
     "execution_count": 3,
     "metadata": {},
     "output_type": "execute_result"
    }
   ],
   "source": [
    "signal = np.arange(100)\n",
    "calc_features(signal)"
   ]
  },
  {
   "cell_type": "code",
   "execution_count": 5,
   "metadata": {},
   "outputs": [
    {
     "data": {
      "text/plain": [
       "array([0.01, 0.02, 0.03, 0.04, 0.05, 0.06, 0.07, 0.08, 0.09, 0.1 , 0.11,\n",
       "       0.12, 0.13, 0.14, 0.15, 0.16, 0.17, 0.18, 0.19, 0.2 , 0.21, 0.22,\n",
       "       0.23, 0.24, 0.25, 0.26, 0.27, 0.28, 0.29, 0.3 , 0.31, 0.32, 0.33,\n",
       "       0.34, 0.35, 0.36, 0.37, 0.38, 0.39, 0.4 , 0.41, 0.42, 0.43, 0.44,\n",
       "       0.45, 0.46, 0.47, 0.48, 0.49, 0.5 , 0.51, 0.52, 0.53, 0.54, 0.55,\n",
       "       0.56, 0.57, 0.58, 0.59, 0.6 , 0.61, 0.62, 0.63, 0.64, 0.65, 0.66,\n",
       "       0.67, 0.68, 0.69, 0.7 , 0.71, 0.72, 0.73, 0.74, 0.75, 0.76, 0.77,\n",
       "       0.78, 0.79, 0.8 , 0.81, 0.82, 0.83, 0.84, 0.85, 0.86, 0.87, 0.88,\n",
       "       0.89, 0.9 , 0.91, 0.92, 0.93, 0.94, 0.95, 0.96, 0.97, 0.98, 0.99,\n",
       "       1.  ])"
      ]
     },
     "execution_count": 5,
     "metadata": {},
     "output_type": "execute_result"
    }
   ],
   "source": [
    "np.arange(1, len(signal)+1)/len(signal)"
   ]
  },
  {
   "cell_type": "code",
   "execution_count": null,
   "metadata": {},
   "outputs": [],
   "source": []
  }
 ],
 "metadata": {
  "kernelspec": {
   "display_name": "Python 3",
   "language": "python",
   "name": "python3"
  },
  "language_info": {
   "codemirror_mode": {
    "name": "ipython",
    "version": 3
   },
   "file_extension": ".py",
   "mimetype": "text/x-python",
   "name": "python",
   "nbconvert_exporter": "python",
   "pygments_lexer": "ipython3",
   "version": "3.10.5"
  },
  "orig_nbformat": 4
 },
 "nbformat": 4,
 "nbformat_minor": 2
}
